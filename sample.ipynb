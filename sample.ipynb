{
 "cells": [
  {
   "metadata": {},
   "cell_type": "markdown",
   "source": [
    "This is a comparison of two machine learning models: a random forest and support vector machine model. We want to predict the Price Range.\n",
    "\n",
    "Steps:\n",
    "1. Clean the dataset\n",
    "2. Remove Outliers\n",
    "3. Split the dataset\n",
    "4. Train model models and evaluate them\n",
    "5. See prediction and visualise the model\n",
    "\n",
    "To start, we import the libraries necessary:"
   ],
   "id": "5304cf764ff0b107"
  },
  {
   "metadata": {
    "ExecuteTime": {
     "end_time": "2025-10-17T07:14:39.225061Z",
     "start_time": "2025-10-17T07:14:35.874544Z"
    }
   },
   "cell_type": "code",
   "source": [
    "import pandas as panda\n",
    "import matplotlib.pyplot as plt"
   ],
   "id": "a01d89753e7ce968",
   "outputs": [],
   "execution_count": 1
  },
  {
   "metadata": {},
   "cell_type": "markdown",
   "source": "The data is loaded",
   "id": "98d09b758b9c5e23"
  },
  {
   "metadata": {
    "ExecuteTime": {
     "end_time": "2025-10-17T07:25:54.755889Z",
     "start_time": "2025-10-17T07:25:53.618272Z"
    }
   },
   "cell_type": "code",
   "outputs": [],
   "execution_count": 2,
   "source": "car_data = panda.read_csv(\"data/ALL_CARS_DATA.csv\")",
   "id": "a14bb1b51f0ab0b1"
  }
 ],
 "metadata": {
  "kernelspec": {
   "display_name": "Python 3",
   "language": "python",
   "name": "python3"
  },
  "language_info": {
   "codemirror_mode": {
    "name": "ipython",
    "version": 2
   },
   "file_extension": ".py",
   "mimetype": "text/x-python",
   "name": "python",
   "nbconvert_exporter": "python",
   "pygments_lexer": "ipython2",
   "version": "2.7.6"
  }
 },
 "nbformat": 4,
 "nbformat_minor": 5
}
